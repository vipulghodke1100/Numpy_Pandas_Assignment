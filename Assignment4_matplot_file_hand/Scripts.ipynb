{
 "cells": [
  {
   "cell_type": "markdown",
   "metadata": {},
   "source": [
    "### 1. Load the (states.json) data from the JSON file into a Python data structure. "
   ]
  },
  {
   "cell_type": "code",
   "execution_count": 2,
   "metadata": {},
   "outputs": [
    {
     "name": "stdout",
     "output_type": "stream",
     "text": [
      "{'states': [{'name': 'Alabama', 'abbreviation': 'AL', 'area_codes': ['205', '251', '256', '334', '938']}, {'name': 'Alaska', 'abbreviation': 'AK', 'area_codes': ['907']}, {'name': 'Arizona', 'abbreviation': 'AZ', 'area_codes': ['480', '520', '602', '623', '928']}, {'name': 'Arkansas', 'abbreviation': 'AR', 'area_codes': ['479', '501', '870']}, {'name': 'California', 'abbreviation': 'CA', 'area_codes': ['209', '213', '310', '323', '408', '415', '424', '442', '510', '530', '559', '562', '619', '626', '628', '650', '657', '661', '669', '707', '714', '747', '760', '805', '818', '831', '858', '909', '916', '925', '949', '951']}, {'name': 'Colorado', 'abbreviation': 'CO', 'area_codes': ['303', '719', '720', '970']}, {'name': 'Connecticut', 'abbreviation': 'CT', 'area_codes': ['203', '475', '860', '959']}, {'name': 'Delaware', 'abbreviation': 'DE', 'area_codes': ['302']}, {'name': 'Florida', 'abbreviation': 'FL', 'area_codes': ['239', '305', '321', '352', '386', '407', '561', '727', '754', '772', '786', '813', '850', '863', '904', '941', '954']}, {'name': 'Georgia', 'abbreviation': 'GA', 'area_codes': ['229', '404', '470', '478', '678', '706', '762', '770', '912']}, {'name': 'Hawaii', 'abbreviation': 'HI', 'area_codes': ['808']}, {'name': 'Idaho', 'abbreviation': 'ID', 'area_codes': ['208']}, {'name': 'Illinois', 'abbreviation': 'IL', 'area_codes': ['217', '224', '309', '312', '331', '618', '630', '708', '773', '779', '815', '847', '872']}, {'name': 'Indiana', 'abbreviation': 'IN', 'area_codes': ['219', '260', '317', '463', '574', '765', '812', '930']}, {'name': 'Iowa', 'abbreviation': 'IA', 'area_codes': ['319', '515', '563', '641', '712']}, {'name': 'Kansas', 'abbreviation': 'KS', 'area_codes': ['316', '620', '785', '913']}, {'name': 'Kentucky', 'abbreviation': 'KY', 'area_codes': ['270', '364', '502', '606', '859']}, {'name': 'Louisiana', 'abbreviation': 'LA', 'area_codes': ['225', '318', '337', '504', '985']}, {'name': 'Maine', 'abbreviation': 'ME', 'area_codes': ['207']}, {'name': 'Maryland', 'abbreviation': 'MD', 'area_codes': ['240', '301', '410', '443', '667']}, {'name': 'Massachusetts', 'abbreviation': 'MA', 'area_codes': ['339', '351', '413', '508', '617', '774', '781', '857', '978']}, {'name': 'Michigan', 'abbreviation': 'MI', 'area_codes': ['231', '248', '269', '313', '517', '586', '616', '734', '810', '906', '947', '989']}, {'name': 'Minnesota', 'abbreviation': 'MN', 'area_codes': ['218', '320', '507', '612', '651', '763', '952']}, {'name': 'Mississippi', 'abbreviation': 'MS', 'area_codes': ['228', '601', '662', '769']}, {'name': 'Missouri', 'abbreviation': 'MO', 'area_codes': ['314', '417', '573', '636', '660', '816']}, {'name': 'Montana', 'abbreviation': 'MT', 'area_codes': ['406']}, {'name': 'Nebraska', 'abbreviation': 'NE', 'area_codes': ['308', '402', '531']}, {'name': 'Nevada', 'abbreviation': 'NV', 'area_codes': ['702', '725', '775']}, {'name': 'New Hampshire', 'abbreviation': 'NH', 'area_codes': ['603']}, {'name': 'New Jersey', 'abbreviation': 'NJ', 'area_codes': ['201', '551', '609', '732', '848', '856', '862', '908', '973']}, {'name': 'New Mexico', 'abbreviation': 'NM', 'area_codes': ['505', '575']}, {'name': 'New York', 'abbreviation': 'NY', 'area_codes': ['212', '315', '332', '347', '516', '518', '585', '607', '631', '646', '680', '716', '718', '845', '914', '917', '929', '934']}, {'name': 'North Carolina', 'abbreviation': 'NC', 'area_codes': ['252', '336', '704', '743', '828', '910', '919', '980', '984']}, {'name': 'North Dakota', 'abbreviation': 'ND', 'area_codes': ['701']}, {'name': 'Ohio', 'abbreviation': 'OH', 'area_codes': ['216', '220', '234', '330', '380', '419', '440', '513', '567', '614', '740', '937']}, {'name': 'Oklahoma', 'abbreviation': 'OK', 'area_codes': ['405', '539', '580', '918']}, {'name': 'Oregon', 'abbreviation': 'OR', 'area_codes': ['458', '503', '541', '971']}, {'name': 'Pennsylvania', 'abbreviation': 'PA', 'area_codes': ['215', '267', '272', '412', '484', '570', '610', '717', '724', '814', '878']}, {'name': 'Rhode Island', 'abbreviation': 'RI', 'area_codes': ['401']}, {'name': 'South Carolina', 'abbreviation': 'SC', 'area_codes': ['803', '843', '854', '864']}, {'name': 'South Dakota', 'abbreviation': 'SD', 'area_codes': ['605']}, {'name': 'Tennessee', 'abbreviation': 'TN', 'area_codes': ['423', '615', '629', '731', '865', '901', '931']}, {'name': 'Texas', 'abbreviation': 'TX', 'area_codes': ['210', '214', '254', '281', '325', '346', '361', '409', '430', '432', '469', '512', '682', '713', '737', '806', '817', '830', '832', '903', '915', '936', '940', '956', '972', '979']}, {'name': 'Utah', 'abbreviation': 'UT', 'area_codes': ['385', '435', '801']}, {'name': 'Vermont', 'abbreviation': 'VT', 'area_codes': ['802']}, {'name': 'Virginia', 'abbreviation': 'VA', 'area_codes': ['276', '434', '540', '571', '703', '757', '804']}, {'name': 'Washington', 'abbreviation': 'WA', 'area_codes': ['206', '253', '360', '425', '509']}, {'name': 'West Virginia', 'abbreviation': 'WV', 'area_codes': ['304', '681']}, {'name': 'Wisconsin', 'abbreviation': 'WI', 'area_codes': ['262', '414', '534', '608', '715', '920']}, {'name': 'Wyoming', 'abbreviation': 'WY', 'area_codes': ['307']}]}\n"
     ]
    }
   ],
   "source": [
    "import json\n",
    "with open ('states.json','r') as file:\n",
    "    data=json.load(file)\n",
    "print(data)"
   ]
  },
  {
   "cell_type": "markdown",
   "metadata": {},
   "source": [
    "#### 1. Extract the names of all states with multiple area codes. "
   ]
  },
  {
   "cell_type": "code",
   "execution_count": 3,
   "metadata": {},
   "outputs": [
    {
     "name": "stdout",
     "output_type": "stream",
     "text": [
      "Alabama\n",
      "Arizona\n",
      "Arkansas\n",
      "California\n",
      "Colorado\n",
      "Connecticut\n",
      "Florida\n",
      "Georgia\n",
      "Illinois\n",
      "Indiana\n",
      "Iowa\n",
      "Kansas\n",
      "Kentucky\n",
      "Louisiana\n",
      "Maryland\n",
      "Massachusetts\n",
      "Michigan\n",
      "Minnesota\n",
      "Mississippi\n",
      "Missouri\n",
      "Nebraska\n",
      "Nevada\n",
      "New Jersey\n",
      "New Mexico\n",
      "New York\n",
      "North Carolina\n",
      "Ohio\n",
      "Oklahoma\n",
      "Oregon\n",
      "Pennsylvania\n",
      "South Carolina\n",
      "Tennessee\n",
      "Texas\n",
      "Utah\n",
      "Virginia\n",
      "Washington\n",
      "West Virginia\n",
      "Wisconsin\n"
     ]
    }
   ],
   "source": [
    "for item in data['states']:\n",
    "    if len(item['area_codes'])>1:\n",
    "        print(item['name'])\n",
    "        "
   ]
  },
  {
   "cell_type": "markdown",
   "metadata": {},
   "source": [
    "#### 2. Calculate the total number of area codes for each state and store the results in a dictionary."
   ]
  },
  {
   "cell_type": "code",
   "execution_count": 4,
   "metadata": {},
   "outputs": [
    {
     "name": "stdout",
     "output_type": "stream",
     "text": [
      "{'Alabama': 5, 'Alaska': 1, 'Arizona': 5, 'Arkansas': 3, 'California': 32, 'Colorado': 4, 'Connecticut': 4, 'Delaware': 1, 'Florida': 17, 'Georgia': 9, 'Hawaii': 1, 'Idaho': 1, 'Illinois': 13, 'Indiana': 8, 'Iowa': 5, 'Kansas': 4, 'Kentucky': 5, 'Louisiana': 5, 'Maine': 1, 'Maryland': 5, 'Massachusetts': 9, 'Michigan': 12, 'Minnesota': 7, 'Mississippi': 4, 'Missouri': 6, 'Montana': 1, 'Nebraska': 3, 'Nevada': 3, 'New Hampshire': 1, 'New Jersey': 9, 'New Mexico': 2, 'New York': 18, 'North Carolina': 9, 'North Dakota': 1, 'Ohio': 12, 'Oklahoma': 4, 'Oregon': 4, 'Pennsylvania': 11, 'Rhode Island': 1, 'South Carolina': 4, 'South Dakota': 1, 'Tennessee': 7, 'Texas': 26, 'Utah': 3, 'Vermont': 1, 'Virginia': 7, 'Washington': 5, 'West Virginia': 2, 'Wisconsin': 6, 'Wyoming': 1}\n"
     ]
    }
   ],
   "source": [
    "no_of_area_codes={}\n",
    "for item in data['states']:\n",
    "    if item['name'] not in no_of_area_codes.keys():\n",
    "        no_of_area_codes[item['name']]=len(item['area_codes'])\n",
    "        \n",
    "print(no_of_area_codes)\n",
    "    "
   ]
  },
  {
   "cell_type": "markdown",
   "metadata": {},
   "source": [
    "#### 3. Identify the state with the highest number of area codes and print its name and the corresponding number of area codes. "
   ]
  },
  {
   "cell_type": "code",
   "execution_count": 19,
   "metadata": {},
   "outputs": [
    {
     "name": "stdout",
     "output_type": "stream",
     "text": [
      "city with max code: California\n",
      "no. of area code: 32\n"
     ]
    }
   ],
   "source": [
    "max_no_codes=max(no_of_area_codes.values())\n",
    "for key,value in no_of_area_codes.items():\n",
    "    if value==max_no_codes:\n",
    "        city_of_max_code=key\n",
    "\n",
    "print(f\"city with max code: {city_of_max_code}\\nno. of area code: {max_no_codes}\")\n",
    "\n"
   ]
  },
  {
   "cell_type": "markdown",
   "metadata": {},
   "source": [
    "### 2. Write a Python program to convert Python dictionary object (sort by key) to JSON data. Print the object members with indent level 4. "
   ]
  },
  {
   "cell_type": "code",
   "execution_count": 25,
   "metadata": {},
   "outputs": [
    {
     "data": {
      "text/plain": [
       "{'Florida': 17,\n",
       " 'Georgia': 9,\n",
       " 'Kentucky': 5,\n",
       " 'Louisiana': 5,\n",
       " 'Maine': 1,\n",
       " 'Maryland': 5,\n",
       " 'Massachusetts': 9,\n",
       " 'Michigan': 12,\n",
       " 'Minnesota': 7,\n",
       " 'Mississippi': 4,\n",
       " 'Hawaii': 1,\n",
       " 'Idaho': 1,\n",
       " 'Illinois': 13,\n",
       " 'Indiana': 8,\n",
       " 'Arizona': 5,\n",
       " 'Arkansas': 3,\n",
       " 'California': 32,\n",
       " 'Colorado': 4,\n",
       " 'Connecticut': 4,\n",
       " 'Delaware': 1}"
      ]
     },
     "execution_count": 25,
     "metadata": {},
     "output_type": "execute_result"
    }
   ],
   "source": [
    "data={'Florida': 17, 'Georgia': 9,  'Kentucky': 5, 'Louisiana': 5, 'Maine': 1, 'Maryland': 5, 'Massachusetts': 9, 'Michigan': 12, 'Minnesota': 7, 'Mississippi': 4,'Hawaii': 1, 'Idaho': 1, 'Illinois': 13, 'Indiana': 8,'Arizona': 5, 'Arkansas': 3, 'California': 32, 'Colorado': 4, 'Connecticut': 4, 'Delaware': 1} \n",
    "data"
   ]
  },
  {
   "cell_type": "code",
   "execution_count": 36,
   "metadata": {},
   "outputs": [
    {
     "name": "stdout",
     "output_type": "stream",
     "text": [
      "{'Arizona': 5, 'Arkansas': 3, 'California': 32, 'Colorado': 4, 'Connecticut': 4, 'Delaware': 1, 'Florida': 17, 'Georgia': 9, 'Hawaii': 1, 'Idaho': 1, 'Illinois': 13, 'Indiana': 8, 'Kentucky': 5, 'Louisiana': 5, 'Maine': 1, 'Maryland': 5, 'Massachusetts': 9, 'Michigan': 12, 'Minnesota': 7, 'Mississippi': 4}\n"
     ]
    }
   ],
   "source": [
    "# using sorted to sort the list\n",
    "data={k:v for k,v in sorted(data.items() , key=lambda x:x[0])}\n",
    "\n",
    "# converting dictionary to json and storing it into json file i.e. ('data.json')\n",
    "with open ('data.json','w+') as file:\n",
    "    json.dump(data,file,indent=4)\n",
    "    \n",
    "with open('data.json','r') as file:\n",
    "    data=json.load(file)\n",
    "print(data)"
   ]
  },
  {
   "cell_type": "code",
   "execution_count": null,
   "metadata": {},
   "outputs": [],
   "source": []
  }
 ],
 "metadata": {
  "kernelspec": {
   "display_name": "virtualEnv",
   "language": "python",
   "name": "python3"
  },
  "language_info": {
   "codemirror_mode": {
    "name": "ipython",
    "version": 3
   },
   "file_extension": ".py",
   "mimetype": "text/x-python",
   "name": "python",
   "nbconvert_exporter": "python",
   "pygments_lexer": "ipython3",
   "version": "3.13.1"
  }
 },
 "nbformat": 4,
 "nbformat_minor": 2
}

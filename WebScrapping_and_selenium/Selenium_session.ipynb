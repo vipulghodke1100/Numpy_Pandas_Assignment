{
 "cells": [
  {
   "cell_type": "code",
   "execution_count": null,
   "metadata": {},
   "outputs": [],
   "source": [
    "from selenium import webdriver\n",
    "import time\n",
    "from selenium.webdriver.chrome.options import Options\n",
    "from selenium.webdriver.common.keys import Keys\n",
    "\n"
   ]
  },
  {
   "cell_type": "code",
   "execution_count": null,
   "metadata": {},
   "outputs": [],
   "source": [
    "def function1():\n",
    "    chrome_options=Options()"
   ]
  },
  {
   "cell_type": "code",
   "execution_count": null,
   "metadata": {},
   "outputs": [
    {
     "name": "stderr",
     "output_type": "stream",
     "text": [
      "Exception ignored in: <function Service.__del__ at 0x000002B0784CA840>\n",
      "Traceback (most recent call last):\n",
      "  File \"c:\\Traniee\\Python\\virtualEnv\\Lib\\site-packages\\selenium\\webdriver\\common\\service.py\", line 200, in __del__\n",
      "    self.stop()\n",
      "  File \"c:\\Traniee\\Python\\virtualEnv\\Lib\\site-packages\\selenium\\webdriver\\common\\service.py\", line 157, in stop\n",
      "    self.send_remote_shutdown_command()\n",
      "  File \"c:\\Traniee\\Python\\virtualEnv\\Lib\\site-packages\\selenium\\webdriver\\common\\service.py\", line 137, in send_remote_shutdown_command\n",
      "    request.urlopen(f\"{self.service_url}/shutdown\")\n",
      "  File \"C:\\Users\\VipulGhodke\\AppData\\Local\\Programs\\Python\\Python313\\Lib\\urllib\\request.py\", line 189, in urlopen\n",
      "    return opener.open(url, data, timeout)\n",
      "  File \"C:\\Users\\VipulGhodke\\AppData\\Local\\Programs\\Python\\Python313\\Lib\\urllib\\request.py\", line 489, in open\n",
      "    response = self._open(req, data)\n",
      "  File \"C:\\Users\\VipulGhodke\\AppData\\Local\\Programs\\Python\\Python313\\Lib\\urllib\\request.py\", line 506, in _open\n",
      "    result = self._call_chain(self.handle_open, protocol, protocol +\n",
      "  File \"C:\\Users\\VipulGhodke\\AppData\\Local\\Programs\\Python\\Python313\\Lib\\urllib\\request.py\", line 466, in _call_chain\n",
      "    result = func(*args)\n",
      "  File \"C:\\Users\\VipulGhodke\\AppData\\Local\\Programs\\Python\\Python313\\Lib\\urllib\\request.py\", line 1348, in http_open\n",
      "    return self.do_open(http.client.HTTPConnection, req)\n",
      "  File \"C:\\Users\\VipulGhodke\\AppData\\Local\\Programs\\Python\\Python313\\Lib\\urllib\\request.py\", line 1319, in do_open\n",
      "    h.request(req.get_method(), req.selector, req.data, headers,\n",
      "  File \"C:\\Users\\VipulGhodke\\AppData\\Local\\Programs\\Python\\Python313\\Lib\\http\\client.py\", line 1336, in request\n",
      "    self._send_request(method, url, body, headers, encode_chunked)\n",
      "  File \"C:\\Users\\VipulGhodke\\AppData\\Local\\Programs\\Python\\Python313\\Lib\\http\\client.py\", line 1382, in _send_request\n",
      "    self.endheaders(body, encode_chunked=encode_chunked)\n",
      "  File \"C:\\Users\\VipulGhodke\\AppData\\Local\\Programs\\Python\\Python313\\Lib\\http\\client.py\", line 1331, in endheaders\n",
      "    self._send_output(message_body, encode_chunked=encode_chunked)\n",
      "  File \"C:\\Users\\VipulGhodke\\AppData\\Local\\Programs\\Python\\Python313\\Lib\\http\\client.py\", line 1091, in _send_output\n",
      "    self.send(msg)\n",
      "  File \"C:\\Users\\VipulGhodke\\AppData\\Local\\Programs\\Python\\Python313\\Lib\\http\\client.py\", line 1035, in send\n",
      "    self.connect()\n",
      "  File \"C:\\Users\\VipulGhodke\\AppData\\Local\\Programs\\Python\\Python313\\Lib\\http\\client.py\", line 1001, in connect\n",
      "    self.sock = self._create_connection(\n",
      "  File \"C:\\Users\\VipulGhodke\\AppData\\Local\\Programs\\Python\\Python313\\Lib\\socket.py\", line 856, in create_connection\n",
      "    exceptions.clear()  # raise only the last error\n",
      "KeyboardInterrupt: \n"
     ]
    }
   ],
   "source": [
    "from selenium import webdriver\n",
    "from selenium.webdriver.common.by import By\n",
    "\n",
    "driver =webdriver.Chrome()\n",
    "driver.get('https://www.amazon.in./s?k=boat+speaker&crid=2ZTNPXH9D0N6T&sprefix=boat+speake%2Caps%2C223&ref=nb_sb_noss_2')\n",
    "driver.implicitly_wait(10)\n",
    "product_price_data=driver.find_element(By.XPATH,\"/html/body/div[1]/div[1]/div[1]/div[1]/div/span[1]/div[1]/div[6]/div/div/span/div/div/div/div[2]/div/div/div[3]/div[1]/div/div[1]/div[2]/div[1]/a/span/span[2]/span[2]\")\n",
    "product_name=driver.find_element(By.XPATH,'/html/body/div[1]/div[1]/div[1]/div[1]/div/span[1]/div[1]/div[6]/div/div/span/div/div/div/div[2]/div/div/div[1]/a/h2/span')\n",
    "\n",
    "print(product_name.text,\"  \", product_price_data.text)\n",
    "driver.quit()"
   ]
  },
  {
   "cell_type": "code",
   "execution_count": null,
   "metadata": {},
   "outputs": [],
   "source": []
  }
 ],
 "metadata": {
  "kernelspec": {
   "display_name": "virtualEnv",
   "language": "python",
   "name": "python3"
  },
  "language_info": {
   "codemirror_mode": {
    "name": "ipython",
    "version": 3
   },
   "file_extension": ".py",
   "mimetype": "text/x-python",
   "name": "python",
   "nbconvert_exporter": "python",
   "pygments_lexer": "ipython3",
   "version": "3.13.1"
  }
 },
 "nbformat": 4,
 "nbformat_minor": 2
}

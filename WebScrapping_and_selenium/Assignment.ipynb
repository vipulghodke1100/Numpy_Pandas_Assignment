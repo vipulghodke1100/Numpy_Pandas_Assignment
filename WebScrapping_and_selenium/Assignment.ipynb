{
 "cells": [
  {
   "cell_type": "markdown",
   "metadata": {},
   "source": [
    "#### 1. Get weather information from url: \n",
    "##### https://www.accuweather.com/en/in/mumbai/204842/weather-forecast/204842\n",
    "###### 1. Make use beautiful soup and selenium.  \n",
    "###### 2. Extract day, high temperature, low temperature, etc. "
   ]
  },
  {
   "cell_type": "code",
   "execution_count": 86,
   "metadata": {},
   "outputs": [],
   "source": [
    "from bs4 import BeautifulSoup\n",
    "from selenium import webdriver\n",
    "import time\n",
    "from selenium.webdriver.chrome.options import Options\n",
    "from selenium.webdriver.common.keys import Keys\n",
    "from selenium.webdriver.common.by import By\n",
    "\n",
    "import threading"
   ]
  },
  {
   "cell_type": "code",
   "execution_count": 8,
   "metadata": {},
   "outputs": [],
   "source": [
    "def find_whether():\n",
    "    chrome_options=Options()\n",
    "    user_agent=\"Mozilla/5.0 (Windows NT 10.0; Win64; x64) AppleWebKit/537.36 (KHTML, like Gecko) Chrome/108.0.0.0 Safari/537.36\"\n",
    "    chrome_options.add_argument(f\"user-agent={user_agent}\")\n",
    "    browser=webdriver.Chrome(options=chrome_options)\n",
    "    \n",
    "    browser.get(\"https://www.accuweather.com/en/in/mumbai/204842/weather-forecast/204842 \")\n",
    "    time.sleep(5)\n",
    "    div_element=browser.find_element(By.XPATH,'/html/body/div/div[7]/div[1]/div[1]/div[1]').get_attribute('outerHTML')\n",
    "    # div_element=browser.find_element(By.XPATH,'/html/body/div/div[7]/div[1]/div[1]/div[1]')\n",
    "    # print(div_element.text)\n",
    "    \n",
    "    browser.quit()\n",
    "    return div_element\n",
    "\n",
    "info_HTML=find_whether();\n",
    "    "
   ]
  },
  {
   "cell_type": "code",
   "execution_count": 9,
   "metadata": {},
   "outputs": [
    {
     "name": "stdout",
     "output_type": "stream",
     "text": [
      "<div class=\"today-forecast-card content-module\">\n",
      "\t<a href=\"/en/in/mumbai/204842/weather-today/204842\">\n",
      "\t\t<div class=\"card-header spaced-content\">\n",
      "\t\t\t<h2>Today's Weather</h2>\n",
      "\t\t\t<p class=\"sub\">\n",
      "\t\t\t\tThu, Jan 30\n",
      "\t\t\t</p>\n",
      "\t\t</div>\n",
      "\t\t<div class=\"body\">\n",
      "\t\t\t\t<div class=\"body-item\">\n",
      "\t\t\t\t\t<img class=\"icon\" height=\"22\" width=\"22\" src=\"https://www.awxcdn.com/adc-assets/images/weathericons/5.svg\">\n",
      "\t\t\t\t\t<p>\n",
      "\t\t\t\t\t\t Hazy sun\n",
      "\t\t\t\t\t\t<b>Hi: 33°</b>\n",
      "\t\t\t\t\t</p>\n",
      "\t\t\t\t</div>\n",
      "\t\t\t\t<div class=\"body-item\">\n",
      "\t\t\t\t\t<img class=\"icon\" height=\"22\" width=\"22\" src=\"https://www.awxcdn.com/adc-assets/images/weathericons/33.svg\">\n",
      "\t\t\t\t\t<p>\n",
      "\t\t\t\t\t\tTonight: Clear\n",
      "\t\t\t\t\t\t<b>Lo: 18°</b>\n",
      "\t\t\t\t\t</p>\n",
      "\t\t\t\t</div>\n",
      "\t\t</div>\n",
      "\t</a>\n",
      "</div>\n"
     ]
    }
   ],
   "source": [
    "print(info_HTML)"
   ]
  },
  {
   "cell_type": "code",
   "execution_count": 15,
   "metadata": {},
   "outputs": [
    {
     "name": "stdout",
     "output_type": "stream",
     "text": [
      "<div class=\"today-forecast-card content-module\">\n",
      " <a href=\"/en/in/mumbai/204842/weather-today/204842\">\n",
      "  <div class=\"card-header spaced-content\">\n",
      "   <h2>\n",
      "    Today's Weather\n",
      "   </h2>\n",
      "   <p class=\"sub\">\n",
      "    Thu, Jan 30\n",
      "   </p>\n",
      "  </div>\n",
      "  <div class=\"body\">\n",
      "   <div class=\"body-item\">\n",
      "    <img class=\"icon\" height=\"22\" src=\"https://www.awxcdn.com/adc-assets/images/weathericons/5.svg\" width=\"22\"/>\n",
      "    <p>\n",
      "     Hazy sun\n",
      "     <b>\n",
      "      Hi: 33°\n",
      "     </b>\n",
      "    </p>\n",
      "   </div>\n",
      "   <div class=\"body-item\">\n",
      "    <img class=\"icon\" height=\"22\" src=\"https://www.awxcdn.com/adc-assets/images/weathericons/33.svg\" width=\"22\"/>\n",
      "    <p>\n",
      "     Tonight: Clear\n",
      "     <b>\n",
      "      Lo: 18°\n",
      "     </b>\n",
      "    </p>\n",
      "   </div>\n",
      "  </div>\n",
      " </a>\n",
      "</div>\n",
      "\n"
     ]
    }
   ],
   "source": [
    "soup=BeautifulSoup(info_HTML,'html.parser')\n",
    "print(soup.prettify())"
   ]
  },
  {
   "cell_type": "code",
   "execution_count": 83,
   "metadata": {},
   "outputs": [
    {
     "name": "stdout",
     "output_type": "stream",
     "text": [
      "[<p class=\"sub\">\n",
      "\t\t\t\tThu, Jan 30\n",
      "\t\t\t</p>, <p>\n",
      "\t\t\t\t\t\t Hazy sun\n",
      "\t\t\t\t\t\t<b>Hi: 33°</b>\n",
      "</p>, <p>\n",
      "\t\t\t\t\t\tTonight: Clear\n",
      "\t\t\t\t\t\t<b>Lo: 18°</b>\n",
      "</p>]\n",
      "{'Date': '30', 'Month': 'Jan', 'Day': 'Thu', 'High_temp': '33°', 'Low_Temp': '18°'}\n"
     ]
    }
   ],
   "source": [
    "p=soup.find_all('p')\n",
    "info=[]\n",
    "for item in p:\n",
    "    if(item.find_all('b')):\n",
    "        info.append(item.find('b').text)\n",
    "        continue\n",
    "    info.append(item.text.strip())\n",
    "\n",
    "day_month=info[0].split(',')\n",
    "day=day_month[0]\n",
    "month=day_month[1].split(' ')[1]\n",
    "date=day_month[1].split(' ')[2]\n",
    "\n",
    "high_temp=info[1].replace('Hi:','').strip()\n",
    "Low_temp=info[2].replace('Lo:','').strip()\n",
    "\n",
    "print({'Date':date,'Month':month,'Day':day,'High_temp':high_temp,'Low_Temp':Low_temp})"
   ]
  },
  {
   "cell_type": "markdown",
   "metadata": {},
   "source": [
    "#### 2. Customer Threads: \n",
    "###### 1. Each customer is represented by a separate thread in the system. \n",
    "###### 2. When a customer arrives at the coffee shop, they start a\n",
    "#### 3. Order Processing: \n",
    "###### 1. Each order involves selecting a coffee type (e.g., espresso, latte ,cappuccino), specifying options (e.g., size, milk type), and preparing the order. \n",
    "###### 2. The order processing function simulates the time taken to prepare the order using a delay (e.g., time.sleep()). \n",
    "#### 4. Implementation: \n",
    "###### 1. Define a function (place_order) that simulates the process of placing an order, including selecting coffee type, specifying options, and processing the order with a delay. \n",
    "###### 2. Create multiple threads, each representing a customer placing an order. \n",
    "###### 3. Start and join all threads to ensure that the program waits for all orders to be processed before exiting. "
   ]
  },
  {
   "cell_type": "code",
   "execution_count": 88,
   "metadata": {},
   "outputs": [
    {
     "name": "stdout",
     "output_type": "stream",
     "text": [
      "placing order for espresso\n",
      "\n",
      "Select toppings\n",
      "placing order for latte\n",
      "\n",
      "Select toppings\n",
      "placing order for cappuccino\n",
      "\n",
      "Select toppings\n",
      "Order Placed\n",
      "Order Placed\n",
      "Order Placed\n",
      "Preparing the order\n",
      "\n",
      "Preparing the order\n",
      "\n",
      "Preparing the order\n",
      "\n",
      "cappuccino is Ready\n",
      "latte is Ready\n",
      "espresso is Ready\n",
      "Serving...\n",
      "time taken: 9.03075647354126\n"
     ]
    }
   ],
   "source": [
    "def order_espresso():\n",
    "    print(\"placing order for espresso\\n\")\n",
    "    place_and_process_order(\"espresso\")\n",
    "    \n",
    "def order_latte():\n",
    "    print(\"placing order for latte\\n\")\n",
    "    place_and_process_order(\"latte\")\n",
    "    \n",
    "def order_cappuccino():\n",
    "    print(\"placing order for cappuccino\\n\")\n",
    "    place_and_process_order(\"cappuccino\")\n",
    "\n",
    "\n",
    "def place_and_process_order(coffee_type):\n",
    "    print(\"Select toppings\")\n",
    "    time.sleep(3)\n",
    "    print(\"Order Placed\")\n",
    "    time.sleep(1)\n",
    "    print('Preparing the order\\n')\n",
    "    time.sleep(5)\n",
    "    print(f\"{coffee_type} is Ready\")\n",
    "\n",
    "\n",
    "def coffee_shop():\n",
    "    cust1=threading.Thread(target=order_espresso)\n",
    "    cust2=threading.Thread(target=order_latte)\n",
    "    cust3=threading.Thread(target=order_cappuccino)\n",
    "    \n",
    "    start_time=time.time()\n",
    "    cust1.start()\n",
    "    cust2.start()\n",
    "    cust3.start()\n",
    "    \n",
    "    \n",
    "    cust1.join()\n",
    "    cust2.join()\n",
    "    cust3.join()\n",
    "    \n",
    "    end_time=time.time()\n",
    "    \n",
    "    print(\"Serving...\")\n",
    "    print(f\"time taken: {end_time-start_time}\")\n",
    "    \n",
    "coffee_shop()"
   ]
  },
  {
   "cell_type": "code",
   "execution_count": 92,
   "metadata": {},
   "outputs": [
    {
     "name": "stdout",
     "output_type": "stream",
     "text": [
      "placing order for espresso\n",
      "\n",
      "Select toppings\n",
      "Order Placed\n",
      "Preparing the order\n",
      "\n",
      "espresso is Ready\n",
      "placing order for cappuccino\n",
      "\n",
      "Select toppings\n",
      "Order Placed\n",
      "Preparing the order\n",
      "\n",
      "cappuccino is Ready\n",
      "placing order for latte\n",
      "\n",
      "Select toppings\n",
      "Order Placed\n",
      "Preparing the order\n",
      "\n",
      "latte is Ready\n",
      "order completed in time: 27.00917959213257\n"
     ]
    }
   ],
   "source": [
    "def normal_order():\n",
    "    start=time.time()\n",
    "    order_espresso()\n",
    "    order_cappuccino()\n",
    "    order_latte()\n",
    "    end=time.time()\n",
    "    print(f\"order completed in time: {end-start}\")\n",
    "    \n",
    "normal_order()"
   ]
  },
  {
   "cell_type": "markdown",
   "metadata": {},
   "source": [
    "#### 5. Following is the url where it generates new picture every time when got hit. \n",
    "###### 1. https://picsum.photos/2000/3000 \n",
    "###### 2. Use this url and download images 5 times using multiprocessing module \n",
    "###### 3. Check execution time with and without multiprocessing "
   ]
  },
  {
   "cell_type": "code",
   "execution_count": null,
   "metadata": {},
   "outputs": [
    {
     "name": "stdout",
     "output_type": "stream",
     "text": [
      "downloading 5 images serially\n"
     ]
    },
    {
     "name": "stderr",
     "output_type": "stream",
     "text": [
      "c:\\Traniee\\Python\\virtualEnv\\Lib\\site-packages\\urllib3\\connectionpool.py:1097: InsecureRequestWarning: Unverified HTTPS request is being made to host 'picsum.photos'. Adding certificate verification is strongly advised. See: https://urllib3.readthedocs.io/en/latest/advanced-usage.html#tls-warnings\n",
      "  warnings.warn(\n",
      "c:\\Traniee\\Python\\virtualEnv\\Lib\\site-packages\\urllib3\\connectionpool.py:1097: InsecureRequestWarning: Unverified HTTPS request is being made to host 'fastly.picsum.photos'. Adding certificate verification is strongly advised. See: https://urllib3.readthedocs.io/en/latest/advanced-usage.html#tls-warnings\n",
      "  warnings.warn(\n"
     ]
    },
    {
     "name": "stdout",
     "output_type": "stream",
     "text": [
      "Downloaded image_1.jpg\n"
     ]
    },
    {
     "name": "stderr",
     "output_type": "stream",
     "text": [
      "c:\\Traniee\\Python\\virtualEnv\\Lib\\site-packages\\urllib3\\connectionpool.py:1097: InsecureRequestWarning: Unverified HTTPS request is being made to host 'picsum.photos'. Adding certificate verification is strongly advised. See: https://urllib3.readthedocs.io/en/latest/advanced-usage.html#tls-warnings\n",
      "  warnings.warn(\n",
      "c:\\Traniee\\Python\\virtualEnv\\Lib\\site-packages\\urllib3\\connectionpool.py:1097: InsecureRequestWarning: Unverified HTTPS request is being made to host 'fastly.picsum.photos'. Adding certificate verification is strongly advised. See: https://urllib3.readthedocs.io/en/latest/advanced-usage.html#tls-warnings\n",
      "  warnings.warn(\n"
     ]
    },
    {
     "name": "stdout",
     "output_type": "stream",
     "text": [
      "Downloaded image_2.jpg\n"
     ]
    },
    {
     "name": "stderr",
     "output_type": "stream",
     "text": [
      "c:\\Traniee\\Python\\virtualEnv\\Lib\\site-packages\\urllib3\\connectionpool.py:1097: InsecureRequestWarning: Unverified HTTPS request is being made to host 'picsum.photos'. Adding certificate verification is strongly advised. See: https://urllib3.readthedocs.io/en/latest/advanced-usage.html#tls-warnings\n",
      "  warnings.warn(\n",
      "c:\\Traniee\\Python\\virtualEnv\\Lib\\site-packages\\urllib3\\connectionpool.py:1097: InsecureRequestWarning: Unverified HTTPS request is being made to host 'fastly.picsum.photos'. Adding certificate verification is strongly advised. See: https://urllib3.readthedocs.io/en/latest/advanced-usage.html#tls-warnings\n",
      "  warnings.warn(\n"
     ]
    },
    {
     "name": "stdout",
     "output_type": "stream",
     "text": [
      "Downloaded image_3.jpg\n"
     ]
    },
    {
     "name": "stderr",
     "output_type": "stream",
     "text": [
      "c:\\Traniee\\Python\\virtualEnv\\Lib\\site-packages\\urllib3\\connectionpool.py:1097: InsecureRequestWarning: Unverified HTTPS request is being made to host 'picsum.photos'. Adding certificate verification is strongly advised. See: https://urllib3.readthedocs.io/en/latest/advanced-usage.html#tls-warnings\n",
      "  warnings.warn(\n",
      "c:\\Traniee\\Python\\virtualEnv\\Lib\\site-packages\\urllib3\\connectionpool.py:1097: InsecureRequestWarning: Unverified HTTPS request is being made to host 'fastly.picsum.photos'. Adding certificate verification is strongly advised. See: https://urllib3.readthedocs.io/en/latest/advanced-usage.html#tls-warnings\n",
      "  warnings.warn(\n"
     ]
    },
    {
     "name": "stdout",
     "output_type": "stream",
     "text": [
      "Downloaded image_4.jpg\n"
     ]
    },
    {
     "name": "stderr",
     "output_type": "stream",
     "text": [
      "c:\\Traniee\\Python\\virtualEnv\\Lib\\site-packages\\urllib3\\connectionpool.py:1097: InsecureRequestWarning: Unverified HTTPS request is being made to host 'picsum.photos'. Adding certificate verification is strongly advised. See: https://urllib3.readthedocs.io/en/latest/advanced-usage.html#tls-warnings\n",
      "  warnings.warn(\n",
      "c:\\Traniee\\Python\\virtualEnv\\Lib\\site-packages\\urllib3\\connectionpool.py:1097: InsecureRequestWarning: Unverified HTTPS request is being made to host 'fastly.picsum.photos'. Adding certificate verification is strongly advised. See: https://urllib3.readthedocs.io/en/latest/advanced-usage.html#tls-warnings\n",
      "  warnings.warn(\n"
     ]
    },
    {
     "name": "stdout",
     "output_type": "stream",
     "text": [
      "Downloaded image_5.jpg\n",
      "Time required to download image serially: 10.562544107437134\n",
      "\n",
      "Downloading another 5 images using multiProcessing\n"
     ]
    }
   ],
   "source": [
    "import multiprocessing\n",
    "import multiprocessing.process\n",
    "import requests\n",
    "import time\n",
    "import os\n",
    "import warnings \n",
    "\n",
    "\n",
    "\n",
    "\n",
    "def downloadImage(url,idx,dir):\n",
    "    try:\n",
    "        reponse=requests.get(url,verify=False)\n",
    "        with open(os.path.join(dir,f\"image_{idx}.jpg\"),'wb') as file:\n",
    "            file.write(reponse.content)\n",
    "        print(f\"Downloaded image_{idx}.jpg\")\n",
    "    except Exception as e:\n",
    "        print(f\"e\")\n",
    "\n",
    "def download_serially(url,start,end,dir):\n",
    "    for  i in range(start,end+1):\n",
    "        downloadImage(url,i,dir)\n",
    "        \n",
    "        \n",
    "def download_images_parallel(url, start, end, dir):\n",
    "    with multiprocessing.Pool(processes=5) as pool:\n",
    "        pool.starmap(downloadImage, [(url, i, dir) for i in range(start, end + 1)])\n",
    "        \n",
    "        \n",
    "if __name__=='__main__':\n",
    "    multiprocessing.freeze_support()\n",
    "    url=\"https://picsum.photos/2000/3000\"\n",
    "    dir=\"./images\"\n",
    "    \n",
    "    if not os.path.exists(dir):\n",
    "        os.makedirs(dir)\n",
    "        \n",
    "    print(\"downloading 5 images serially\")\n",
    "    start=time.time()\n",
    "    download_serially(url,1,5,dir)\n",
    "    end=time.time()\n",
    "    print(f\"Time required to download image serially: {end-start}\\n\")\n",
    "    print(f\"Downloading another 5 images using multiProcessing\")\n",
    "    \n",
    "    \n",
    "    download_images_parallel(url,6,10,dir)\n",
    "    # processes=[]\n",
    "    # start=time.time()\n",
    "    # for i in range(6,11):\n",
    "    #     p=multiprocessing.Process(target=downloadImage,args=(url,i,dir))\n",
    "    #     processes.append(p)\n",
    "    #     p.start()\n",
    "        \n",
    "    # for p in processes:\n",
    "    #     p.join()\n",
    "        \n",
    "    end=time.time()\n",
    "    print(f\"Time required to download image using multiprocessing: {end-start}\")\n",
    "    \n",
    "    \n",
    "    "
   ]
  }
 ],
 "metadata": {
  "kernelspec": {
   "display_name": "virtualEnv",
   "language": "python",
   "name": "python3"
  },
  "language_info": {
   "codemirror_mode": {
    "name": "ipython",
    "version": 3
   },
   "file_extension": ".py",
   "mimetype": "text/x-python",
   "name": "python",
   "nbconvert_exporter": "python",
   "pygments_lexer": "ipython3",
   "version": "3.13.1"
  }
 },
 "nbformat": 4,
 "nbformat_minor": 2
}

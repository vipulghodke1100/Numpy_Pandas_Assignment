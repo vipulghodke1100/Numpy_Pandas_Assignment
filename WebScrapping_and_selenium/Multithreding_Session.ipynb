{
 "cells": [
  {
   "cell_type": "code",
   "execution_count": 25,
   "metadata": {},
   "outputs": [],
   "source": [
    "import time\n",
    "def square(lst):\n",
    "    for i in lst:\n",
    "        time.sleep(0.2)\n",
    "        print(i ** 2)"
   ]
  },
  {
   "cell_type": "code",
   "execution_count": 26,
   "metadata": {},
   "outputs": [],
   "source": [
    "def cube(lst):\n",
    "    for i in lst:\n",
    "        time.sleep(0.2)\n",
    "        print(i ** 3)"
   ]
  },
  {
   "cell_type": "code",
   "execution_count": 27,
   "metadata": {},
   "outputs": [
    {
     "name": "stdout",
     "output_type": "stream",
     "text": [
      "1\n",
      "4\n",
      "9\n",
      "16\n",
      "25\n",
      "1\n",
      "8\n",
      "27\n",
      "64\n",
      "125\n",
      "Execution Time: 2.0092501640319824\n"
     ]
    }
   ],
   "source": [
    "lst=[1,2,3,4,5]\n",
    "start=time.time()\n",
    "square(lst)\n",
    "cube(lst)\n",
    "end=time.time()\n",
    "print(f\"Execution Time: {end-start}\")\n"
   ]
  },
  {
   "cell_type": "code",
   "execution_count": 28,
   "metadata": {},
   "outputs": [
    {
     "name": "stdout",
     "output_type": "stream",
     "text": [
      "11\n",
      "\n",
      "8\n",
      "4\n",
      "27\n",
      "9\n",
      "64\n",
      "16\n",
      "125\n",
      "25\n",
      "time id 1.011685848236084\n",
      "Completed\n"
     ]
    }
   ],
   "source": [
    "import threading\n",
    "\n",
    "list_data=[1,2,3,4,5]\n",
    " \n",
    "th1=threading.Thread(target=square,args=(list_data,))\n",
    "th2=threading.Thread(target=cube,args=(list_data,))\n",
    " \n",
    "st1=time.time()\n",
    " \n",
    "th1.start()\n",
    "th2.start()\n",
    " \n",
    "th1.join()\n",
    "th2.join()\n",
    " \n",
    "et2=time.time()\n",
    " \n",
    "print(f'time id {et2-st1}')\n",
    " \n",
    "print(\"Completed\")"
   ]
  },
  {
   "cell_type": "code",
   "execution_count": 41,
   "metadata": {},
   "outputs": [
    {
     "name": "stdout",
     "output_type": "stream",
     "text": [
      "lock acquired . list is used for square\n",
      "compelted for square\n",
      "1\n",
      "4\n",
      "9\n",
      "16\n",
      "25\n",
      "lock realased for square\n",
      "lock acquired . list is used for cube\n",
      "compelted for cube\n",
      "1\n",
      "8\n",
      "27\n",
      "64\n",
      "125\n",
      "lock realased for cube\n",
      "Completed both \n",
      "time taken 6.022631406784058\n"
     ]
    }
   ],
   "source": [
    "# synchronisation\n",
    "import threading\n",
    "lock_instance=threading.Lock()\n",
    "lst=[1,2,3,4,5]\n",
    "\n",
    "\n",
    "def square(lst):\n",
    "    use_list(lock_instance,'square')\n",
    "    for i in lst:\n",
    "        time.sleep(0.2)\n",
    "        print(i ** 2)\n",
    "    release_list(lock_instance,'square')\n",
    "    \n",
    "def cube(lst):\n",
    "    use_list(lock_instance,'cube')\n",
    "    for i in lst:\n",
    "        time.sleep(0.2)\n",
    "        print(i ** 3)\n",
    "    release_list(lock_instance,'cube')\n",
    "        \n",
    "def use_list(lock,item):\n",
    "    lock.acquire()\n",
    "    print(f\"lock acquired . list is used for {item}\")\n",
    "    time.sleep(2)\n",
    "    print(f\"compelted for {item}\")\n",
    "    \n",
    "def release_list(lock,item):\n",
    "    lock.release()\n",
    "    print(f\"lock realased for {item}\")\n",
    "    \n",
    "\n",
    "def concurant_work():\n",
    "    t1= threading.Thread(target=square,args=(lst,))\n",
    "    t2=threading.Thread(target=cube,args=(lst,))\n",
    "    \n",
    "    st1=time.time()\n",
    " \n",
    "    t1.start()\n",
    "    t2.start()\n",
    "    \n",
    "    t1.join()\n",
    "    t2.join()\n",
    "    \n",
    "    et2=time.time()\n",
    "    print(\"Completed both \")\n",
    "    print(f'time taken {et2-st1}')\n",
    "    \n",
    "concurant_work()"
   ]
  },
  {
   "cell_type": "code",
   "execution_count": null,
   "metadata": {},
   "outputs": [],
   "source": []
  }
 ],
 "metadata": {
  "kernelspec": {
   "display_name": "virtualEnv",
   "language": "python",
   "name": "python3"
  },
  "language_info": {
   "codemirror_mode": {
    "name": "ipython",
    "version": 3
   },
   "file_extension": ".py",
   "mimetype": "text/x-python",
   "name": "python",
   "nbconvert_exporter": "python",
   "pygments_lexer": "ipython3",
   "version": "3.13.1"
  }
 },
 "nbformat": 4,
 "nbformat_minor": 2
}

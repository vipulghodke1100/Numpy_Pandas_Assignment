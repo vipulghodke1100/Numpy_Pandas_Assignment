{
 "cells": [
  {
   "cell_type": "code",
   "execution_count": null,
   "metadata": {},
   "outputs": [],
   "source": []
  },
  {
   "cell_type": "markdown",
   "metadata": {},
   "source": [
    "###### Load the dataset “Online_Retail” provided into pandas dataframe.   \n",
    "###### o Process any missing values. Create descriptive statistics.(Use of numpy)   \n",
    "###### o Plot time series of price using pandas functionality. Filter transactions based on date. \n",
    "###### o Plot time series chart of price where quantity less than 1000 and in year 2011. \n",
    "###### o Calculate total amount of price in pivot table based on product description. \n",
    "###### o Which country has highest price and for which product? \n",
    "###### o Calculate top 10 products with minimum price and in year 2010."
   ]
  },
  {
   "cell_type": "code",
   "execution_count": 2,
   "metadata": {},
   "outputs": [],
   "source": [
    "import numpy as np "
   ]
  },
  {
   "cell_type": "code",
   "execution_count": 3,
   "metadata": {},
   "outputs": [],
   "source": [
    "import pandas as pd"
   ]
  },
  {
   "cell_type": "code",
   "execution_count": 4,
   "metadata": {},
   "outputs": [],
   "source": [
    "df=pd.read_csv('online_retail.csv')"
   ]
  },
  {
   "cell_type": "code",
   "execution_count": 5,
   "metadata": {},
   "outputs": [
    {
     "data": {
      "text/html": [
       "<div>\n",
       "<style scoped>\n",
       "    .dataframe tbody tr th:only-of-type {\n",
       "        vertical-align: middle;\n",
       "    }\n",
       "\n",
       "    .dataframe tbody tr th {\n",
       "        vertical-align: top;\n",
       "    }\n",
       "\n",
       "    .dataframe thead th {\n",
       "        text-align: right;\n",
       "    }\n",
       "</style>\n",
       "<table border=\"1\" class=\"dataframe\">\n",
       "  <thead>\n",
       "    <tr style=\"text-align: right;\">\n",
       "      <th></th>\n",
       "      <th>Invoice</th>\n",
       "      <th>StockCode</th>\n",
       "      <th>Description</th>\n",
       "      <th>Quantity</th>\n",
       "      <th>InvoiceDate</th>\n",
       "      <th>Price</th>\n",
       "      <th>Customer ID</th>\n",
       "      <th>Country</th>\n",
       "    </tr>\n",
       "  </thead>\n",
       "  <tbody>\n",
       "    <tr>\n",
       "      <th>0</th>\n",
       "      <td>489434</td>\n",
       "      <td>85048</td>\n",
       "      <td>15CM CHRISTMAS GLASS BALL 20 LIGHTS</td>\n",
       "      <td>12</td>\n",
       "      <td>01-12-2009 07:45</td>\n",
       "      <td>6.95</td>\n",
       "      <td>13085.0</td>\n",
       "      <td>United Kingdom</td>\n",
       "    </tr>\n",
       "    <tr>\n",
       "      <th>1</th>\n",
       "      <td>489434</td>\n",
       "      <td>79323P</td>\n",
       "      <td>PINK CHERRY LIGHTS</td>\n",
       "      <td>12</td>\n",
       "      <td>01-12-2009 07:45</td>\n",
       "      <td>6.75</td>\n",
       "      <td>13085.0</td>\n",
       "      <td>United Kingdom</td>\n",
       "    </tr>\n",
       "    <tr>\n",
       "      <th>2</th>\n",
       "      <td>489434</td>\n",
       "      <td>79323W</td>\n",
       "      <td>WHITE CHERRY LIGHTS</td>\n",
       "      <td>12</td>\n",
       "      <td>01-12-2009 07:45</td>\n",
       "      <td>6.75</td>\n",
       "      <td>13085.0</td>\n",
       "      <td>United Kingdom</td>\n",
       "    </tr>\n",
       "    <tr>\n",
       "      <th>3</th>\n",
       "      <td>489434</td>\n",
       "      <td>22041</td>\n",
       "      <td>RECORD FRAME 7\" SINGLE SIZE</td>\n",
       "      <td>48</td>\n",
       "      <td>01-12-2009 07:45</td>\n",
       "      <td>2.10</td>\n",
       "      <td>13085.0</td>\n",
       "      <td>United Kingdom</td>\n",
       "    </tr>\n",
       "    <tr>\n",
       "      <th>4</th>\n",
       "      <td>489434</td>\n",
       "      <td>21232</td>\n",
       "      <td>STRAWBERRY CERAMIC TRINKET BOX</td>\n",
       "      <td>24</td>\n",
       "      <td>01-12-2009 07:45</td>\n",
       "      <td>1.25</td>\n",
       "      <td>13085.0</td>\n",
       "      <td>United Kingdom</td>\n",
       "    </tr>\n",
       "    <tr>\n",
       "      <th>...</th>\n",
       "      <td>...</td>\n",
       "      <td>...</td>\n",
       "      <td>...</td>\n",
       "      <td>...</td>\n",
       "      <td>...</td>\n",
       "      <td>...</td>\n",
       "      <td>...</td>\n",
       "      <td>...</td>\n",
       "    </tr>\n",
       "    <tr>\n",
       "      <th>437880</th>\n",
       "      <td>C553031</td>\n",
       "      <td>22300</td>\n",
       "      <td>COFFEE MUG DOG + BALL DESIGN</td>\n",
       "      <td>-1</td>\n",
       "      <td>12-05-2011 19:43</td>\n",
       "      <td>2.55</td>\n",
       "      <td>13908.0</td>\n",
       "      <td>United Kingdom</td>\n",
       "    </tr>\n",
       "    <tr>\n",
       "      <th>437881</th>\n",
       "      <td>C553031</td>\n",
       "      <td>21533</td>\n",
       "      <td>RETROSPOT LARGE MILK JUG</td>\n",
       "      <td>-3</td>\n",
       "      <td>12-05-2011 19:43</td>\n",
       "      <td>4.95</td>\n",
       "      <td>13908.0</td>\n",
       "      <td>United Kingdom</td>\n",
       "    </tr>\n",
       "    <tr>\n",
       "      <th>437882</th>\n",
       "      <td>C553031</td>\n",
       "      <td>21240</td>\n",
       "      <td>BLUE POLKADOT CUP</td>\n",
       "      <td>-3</td>\n",
       "      <td>12-05-2011 19:43</td>\n",
       "      <td>0.85</td>\n",
       "      <td>13908.0</td>\n",
       "      <td>United Kingdom</td>\n",
       "    </tr>\n",
       "    <tr>\n",
       "      <th>437883</th>\n",
       "      <td>C553032</td>\n",
       "      <td>22891</td>\n",
       "      <td>TEA FOR ONE POLKADOT</td>\n",
       "      <td>-3</td>\n",
       "      <td>12-05-2011 19:44</td>\n",
       "      <td>4.25</td>\n",
       "      <td>13320.0</td>\n",
       "      <td>United Kingdom</td>\n",
       "    </tr>\n",
       "    <tr>\n",
       "      <th>437884</th>\n",
       "      <td>C553032</td>\n",
       "      <td>22631</td>\n",
       "      <td>CIRCUS PARADE LUNCH BOX</td>\n",
       "      <td>-3</td>\n",
       "      <td>12-05-2011 19:44</td>\n",
       "      <td>1.95</td>\n",
       "      <td>13320.0</td>\n",
       "      <td>United Kingdom</td>\n",
       "    </tr>\n",
       "  </tbody>\n",
       "</table>\n",
       "<p>437885 rows × 8 columns</p>\n",
       "</div>"
      ],
      "text/plain": [
       "        Invoice StockCode                          Description  Quantity  \\\n",
       "0        489434     85048  15CM CHRISTMAS GLASS BALL 20 LIGHTS        12   \n",
       "1        489434    79323P                   PINK CHERRY LIGHTS        12   \n",
       "2        489434    79323W                  WHITE CHERRY LIGHTS        12   \n",
       "3        489434     22041         RECORD FRAME 7\" SINGLE SIZE         48   \n",
       "4        489434     21232       STRAWBERRY CERAMIC TRINKET BOX        24   \n",
       "...         ...       ...                                  ...       ...   \n",
       "437880  C553031     22300         COFFEE MUG DOG + BALL DESIGN        -1   \n",
       "437881  C553031     21533             RETROSPOT LARGE MILK JUG        -3   \n",
       "437882  C553031     21240                    BLUE POLKADOT CUP        -3   \n",
       "437883  C553032     22891                 TEA FOR ONE POLKADOT        -3   \n",
       "437884  C553032     22631             CIRCUS PARADE LUNCH BOX         -3   \n",
       "\n",
       "             InvoiceDate  Price  Customer ID         Country  \n",
       "0       01-12-2009 07:45   6.95      13085.0  United Kingdom  \n",
       "1       01-12-2009 07:45   6.75      13085.0  United Kingdom  \n",
       "2       01-12-2009 07:45   6.75      13085.0  United Kingdom  \n",
       "3       01-12-2009 07:45   2.10      13085.0  United Kingdom  \n",
       "4       01-12-2009 07:45   1.25      13085.0  United Kingdom  \n",
       "...                  ...    ...          ...             ...  \n",
       "437880  12-05-2011 19:43   2.55      13908.0  United Kingdom  \n",
       "437881  12-05-2011 19:43   4.95      13908.0  United Kingdom  \n",
       "437882  12-05-2011 19:43   0.85      13908.0  United Kingdom  \n",
       "437883  12-05-2011 19:44   4.25      13320.0  United Kingdom  \n",
       "437884  12-05-2011 19:44   1.95      13320.0  United Kingdom  \n",
       "\n",
       "[437885 rows x 8 columns]"
      ]
     },
     "execution_count": 5,
     "metadata": {},
     "output_type": "execute_result"
    }
   ],
   "source": [
    "df"
   ]
  },
  {
   "cell_type": "code",
   "execution_count": 6,
   "metadata": {},
   "outputs": [
    {
     "data": {
      "text/plain": [
       "0         15CM CHRISTMAS GLASS BALL 20 LIGHTS\n",
       "1                          PINK CHERRY LIGHTS\n",
       "2                         WHITE CHERRY LIGHTS\n",
       "3                RECORD FRAME 7\" SINGLE SIZE \n",
       "4              STRAWBERRY CERAMIC TRINKET BOX\n",
       "                         ...                 \n",
       "437880           COFFEE MUG DOG + BALL DESIGN\n",
       "437881               RETROSPOT LARGE MILK JUG\n",
       "437882                      BLUE POLKADOT CUP\n",
       "437883                   TEA FOR ONE POLKADOT\n",
       "437884               CIRCUS PARADE LUNCH BOX \n",
       "Name: Description, Length: 437885, dtype: object"
      ]
     },
     "execution_count": 6,
     "metadata": {},
     "output_type": "execute_result"
    }
   ],
   "source": [
    "df.Description\n"
   ]
  },
  {
   "cell_type": "code",
   "execution_count": 7,
   "metadata": {},
   "outputs": [
    {
     "data": {
      "text/plain": [
       "<bound method NDFrame.describe of         Invoice StockCode                          Description  Quantity  \\\n",
       "0        489434     85048  15CM CHRISTMAS GLASS BALL 20 LIGHTS        12   \n",
       "1        489434    79323P                   PINK CHERRY LIGHTS        12   \n",
       "2        489434    79323W                  WHITE CHERRY LIGHTS        12   \n",
       "3        489434     22041         RECORD FRAME 7\" SINGLE SIZE         48   \n",
       "4        489434     21232       STRAWBERRY CERAMIC TRINKET BOX        24   \n",
       "...         ...       ...                                  ...       ...   \n",
       "437880  C553031     22300         COFFEE MUG DOG + BALL DESIGN        -1   \n",
       "437881  C553031     21533             RETROSPOT LARGE MILK JUG        -3   \n",
       "437882  C553031     21240                    BLUE POLKADOT CUP        -3   \n",
       "437883  C553032     22891                 TEA FOR ONE POLKADOT        -3   \n",
       "437884  C553032     22631             CIRCUS PARADE LUNCH BOX         -3   \n",
       "\n",
       "             InvoiceDate  Price  Customer ID         Country  \n",
       "0       01-12-2009 07:45   6.95      13085.0  United Kingdom  \n",
       "1       01-12-2009 07:45   6.75      13085.0  United Kingdom  \n",
       "2       01-12-2009 07:45   6.75      13085.0  United Kingdom  \n",
       "3       01-12-2009 07:45   2.10      13085.0  United Kingdom  \n",
       "4       01-12-2009 07:45   1.25      13085.0  United Kingdom  \n",
       "...                  ...    ...          ...             ...  \n",
       "437880  12-05-2011 19:43   2.55      13908.0  United Kingdom  \n",
       "437881  12-05-2011 19:43   4.95      13908.0  United Kingdom  \n",
       "437882  12-05-2011 19:43   0.85      13908.0  United Kingdom  \n",
       "437883  12-05-2011 19:44   4.25      13320.0  United Kingdom  \n",
       "437884  12-05-2011 19:44   1.95      13320.0  United Kingdom  \n",
       "\n",
       "[437885 rows x 8 columns]>"
      ]
     },
     "execution_count": 7,
     "metadata": {},
     "output_type": "execute_result"
    }
   ],
   "source": [
    "df.describe"
   ]
  },
  {
   "cell_type": "code",
   "execution_count": 8,
   "metadata": {},
   "outputs": [
    {
     "data": {
      "text/plain": [
       "Invoice             0\n",
       "StockCode           0\n",
       "Description      2723\n",
       "Quantity            0\n",
       "InvoiceDate         0\n",
       "Price               0\n",
       "Customer ID    110775\n",
       "Country             0\n",
       "dtype: int64"
      ]
     },
     "execution_count": 8,
     "metadata": {},
     "output_type": "execute_result"
    }
   ],
   "source": [
    "df.isnull().sum()"
   ]
  },
  {
   "cell_type": "code",
   "execution_count": 9,
   "metadata": {},
   "outputs": [],
   "source": [
    "removed_null=df.dropna(subset=['Description','Customer ID'],inplace=True)"
   ]
  },
  {
   "cell_type": "code",
   "execution_count": 10,
   "metadata": {},
   "outputs": [
    {
     "data": {
      "text/plain": [
       "<bound method NDFrame.describe of         Invoice StockCode                          Description  Quantity  \\\n",
       "0        489434     85048  15CM CHRISTMAS GLASS BALL 20 LIGHTS        12   \n",
       "1        489434    79323P                   PINK CHERRY LIGHTS        12   \n",
       "2        489434    79323W                  WHITE CHERRY LIGHTS        12   \n",
       "3        489434     22041         RECORD FRAME 7\" SINGLE SIZE         48   \n",
       "4        489434     21232       STRAWBERRY CERAMIC TRINKET BOX        24   \n",
       "...         ...       ...                                  ...       ...   \n",
       "437880  C553031     22300         COFFEE MUG DOG + BALL DESIGN        -1   \n",
       "437881  C553031     21533             RETROSPOT LARGE MILK JUG        -3   \n",
       "437882  C553031     21240                    BLUE POLKADOT CUP        -3   \n",
       "437883  C553032     22891                 TEA FOR ONE POLKADOT        -3   \n",
       "437884  C553032     22631             CIRCUS PARADE LUNCH BOX         -3   \n",
       "\n",
       "             InvoiceDate  Price  Customer ID         Country  \n",
       "0       01-12-2009 07:45   6.95      13085.0  United Kingdom  \n",
       "1       01-12-2009 07:45   6.75      13085.0  United Kingdom  \n",
       "2       01-12-2009 07:45   6.75      13085.0  United Kingdom  \n",
       "3       01-12-2009 07:45   2.10      13085.0  United Kingdom  \n",
       "4       01-12-2009 07:45   1.25      13085.0  United Kingdom  \n",
       "...                  ...    ...          ...             ...  \n",
       "437880  12-05-2011 19:43   2.55      13908.0  United Kingdom  \n",
       "437881  12-05-2011 19:43   4.95      13908.0  United Kingdom  \n",
       "437882  12-05-2011 19:43   0.85      13908.0  United Kingdom  \n",
       "437883  12-05-2011 19:44   4.25      13320.0  United Kingdom  \n",
       "437884  12-05-2011 19:44   1.95      13320.0  United Kingdom  \n",
       "\n",
       "[327110 rows x 8 columns]>"
      ]
     },
     "execution_count": 10,
     "metadata": {},
     "output_type": "execute_result"
    }
   ],
   "source": [
    "df.describe"
   ]
  },
  {
   "cell_type": "code",
   "execution_count": 11,
   "metadata": {},
   "outputs": [
    {
     "data": {
      "text/plain": [
       "Invoice        0\n",
       "StockCode      0\n",
       "Description    0\n",
       "Quantity       0\n",
       "InvoiceDate    0\n",
       "Price          0\n",
       "Customer ID    0\n",
       "Country        0\n",
       "dtype: int64"
      ]
     },
     "execution_count": 11,
     "metadata": {},
     "output_type": "execute_result"
    }
   ],
   "source": [
    "df.isnull().sum()"
   ]
  },
  {
   "cell_type": "code",
   "execution_count": 12,
   "metadata": {},
   "outputs": [
    {
     "data": {
      "text/plain": [
       "2616880"
      ]
     },
     "execution_count": 12,
     "metadata": {},
     "output_type": "execute_result"
    }
   ],
   "source": [
    "df.size"
   ]
  },
  {
   "cell_type": "code",
   "execution_count": 13,
   "metadata": {},
   "outputs": [
    {
     "data": {
      "text/html": [
       "<div>\n",
       "<style scoped>\n",
       "    .dataframe tbody tr th:only-of-type {\n",
       "        vertical-align: middle;\n",
       "    }\n",
       "\n",
       "    .dataframe tbody tr th {\n",
       "        vertical-align: top;\n",
       "    }\n",
       "\n",
       "    .dataframe thead th {\n",
       "        text-align: right;\n",
       "    }\n",
       "</style>\n",
       "<table border=\"1\" class=\"dataframe\">\n",
       "  <thead>\n",
       "    <tr style=\"text-align: right;\">\n",
       "      <th></th>\n",
       "      <th>Quantity</th>\n",
       "      <th>Price</th>\n",
       "      <th>Customer ID</th>\n",
       "    </tr>\n",
       "  </thead>\n",
       "  <tbody>\n",
       "    <tr>\n",
       "      <th>count</th>\n",
       "      <td>327110.000000</td>\n",
       "      <td>327110.000000</td>\n",
       "      <td>327110.000000</td>\n",
       "    </tr>\n",
       "    <tr>\n",
       "      <th>mean</th>\n",
       "      <td>12.971734</td>\n",
       "      <td>3.950415</td>\n",
       "      <td>15309.727813</td>\n",
       "    </tr>\n",
       "    <tr>\n",
       "      <th>std</th>\n",
       "      <td>207.017278</td>\n",
       "      <td>74.134111</td>\n",
       "      <td>1697.582041</td>\n",
       "    </tr>\n",
       "    <tr>\n",
       "      <th>min</th>\n",
       "      <td>-74215.000000</td>\n",
       "      <td>0.000000</td>\n",
       "      <td>12346.000000</td>\n",
       "    </tr>\n",
       "    <tr>\n",
       "      <th>25%</th>\n",
       "      <td>2.000000</td>\n",
       "      <td>1.250000</td>\n",
       "      <td>13901.000000</td>\n",
       "    </tr>\n",
       "    <tr>\n",
       "      <th>50%</th>\n",
       "      <td>5.000000</td>\n",
       "      <td>1.950000</td>\n",
       "      <td>15215.000000</td>\n",
       "    </tr>\n",
       "    <tr>\n",
       "      <th>75%</th>\n",
       "      <td>12.000000</td>\n",
       "      <td>3.750000</td>\n",
       "      <td>16801.000000</td>\n",
       "    </tr>\n",
       "    <tr>\n",
       "      <th>max</th>\n",
       "      <td>74215.000000</td>\n",
       "      <td>25111.090000</td>\n",
       "      <td>18287.000000</td>\n",
       "    </tr>\n",
       "  </tbody>\n",
       "</table>\n",
       "</div>"
      ],
      "text/plain": [
       "            Quantity          Price    Customer ID\n",
       "count  327110.000000  327110.000000  327110.000000\n",
       "mean       12.971734       3.950415   15309.727813\n",
       "std       207.017278      74.134111    1697.582041\n",
       "min    -74215.000000       0.000000   12346.000000\n",
       "25%         2.000000       1.250000   13901.000000\n",
       "50%         5.000000       1.950000   15215.000000\n",
       "75%        12.000000       3.750000   16801.000000\n",
       "max     74215.000000   25111.090000   18287.000000"
      ]
     },
     "execution_count": 13,
     "metadata": {},
     "output_type": "execute_result"
    }
   ],
   "source": [
    "df.describe()"
   ]
  },
  {
   "cell_type": "code",
   "execution_count": 14,
   "metadata": {},
   "outputs": [],
   "source": [
    "df['Total Amount']=df['Quantity']*df['Price']"
   ]
  },
  {
   "cell_type": "code",
   "execution_count": 15,
   "metadata": {},
   "outputs": [
    {
     "data": {
      "text/plain": [
       "0          83.40\n",
       "1          81.00\n",
       "2          81.00\n",
       "3         100.80\n",
       "4          30.00\n",
       "           ...  \n",
       "437880     -2.55\n",
       "437881    -14.85\n",
       "437882     -2.55\n",
       "437883    -12.75\n",
       "437884     -5.85\n",
       "Name: Total Amount, Length: 327110, dtype: float64"
      ]
     },
     "execution_count": 15,
     "metadata": {},
     "output_type": "execute_result"
    }
   ],
   "source": [
    "df['Total Amount']"
   ]
  },
  {
   "cell_type": "code",
   "execution_count": 16,
   "metadata": {},
   "outputs": [
    {
     "data": {
      "text/html": [
       "<div>\n",
       "<style scoped>\n",
       "    .dataframe tbody tr th:only-of-type {\n",
       "        vertical-align: middle;\n",
       "    }\n",
       "\n",
       "    .dataframe tbody tr th {\n",
       "        vertical-align: top;\n",
       "    }\n",
       "\n",
       "    .dataframe thead th {\n",
       "        text-align: right;\n",
       "    }\n",
       "</style>\n",
       "<table border=\"1\" class=\"dataframe\">\n",
       "  <thead>\n",
       "    <tr style=\"text-align: right;\">\n",
       "      <th></th>\n",
       "      <th>Quantity</th>\n",
       "      <th>Price</th>\n",
       "      <th>Total Amount</th>\n",
       "    </tr>\n",
       "  </thead>\n",
       "  <tbody>\n",
       "    <tr>\n",
       "      <th>0</th>\n",
       "      <td>12</td>\n",
       "      <td>6.95</td>\n",
       "      <td>83.40</td>\n",
       "    </tr>\n",
       "    <tr>\n",
       "      <th>1</th>\n",
       "      <td>12</td>\n",
       "      <td>6.75</td>\n",
       "      <td>81.00</td>\n",
       "    </tr>\n",
       "    <tr>\n",
       "      <th>2</th>\n",
       "      <td>12</td>\n",
       "      <td>6.75</td>\n",
       "      <td>81.00</td>\n",
       "    </tr>\n",
       "    <tr>\n",
       "      <th>3</th>\n",
       "      <td>48</td>\n",
       "      <td>2.10</td>\n",
       "      <td>100.80</td>\n",
       "    </tr>\n",
       "    <tr>\n",
       "      <th>4</th>\n",
       "      <td>24</td>\n",
       "      <td>1.25</td>\n",
       "      <td>30.00</td>\n",
       "    </tr>\n",
       "    <tr>\n",
       "      <th>...</th>\n",
       "      <td>...</td>\n",
       "      <td>...</td>\n",
       "      <td>...</td>\n",
       "    </tr>\n",
       "    <tr>\n",
       "      <th>437880</th>\n",
       "      <td>-1</td>\n",
       "      <td>2.55</td>\n",
       "      <td>-2.55</td>\n",
       "    </tr>\n",
       "    <tr>\n",
       "      <th>437881</th>\n",
       "      <td>-3</td>\n",
       "      <td>4.95</td>\n",
       "      <td>-14.85</td>\n",
       "    </tr>\n",
       "    <tr>\n",
       "      <th>437882</th>\n",
       "      <td>-3</td>\n",
       "      <td>0.85</td>\n",
       "      <td>-2.55</td>\n",
       "    </tr>\n",
       "    <tr>\n",
       "      <th>437883</th>\n",
       "      <td>-3</td>\n",
       "      <td>4.25</td>\n",
       "      <td>-12.75</td>\n",
       "    </tr>\n",
       "    <tr>\n",
       "      <th>437884</th>\n",
       "      <td>-3</td>\n",
       "      <td>1.95</td>\n",
       "      <td>-5.85</td>\n",
       "    </tr>\n",
       "  </tbody>\n",
       "</table>\n",
       "<p>327110 rows × 3 columns</p>\n",
       "</div>"
      ],
      "text/plain": [
       "        Quantity  Price  Total Amount\n",
       "0             12   6.95         83.40\n",
       "1             12   6.75         81.00\n",
       "2             12   6.75         81.00\n",
       "3             48   2.10        100.80\n",
       "4             24   1.25         30.00\n",
       "...          ...    ...           ...\n",
       "437880        -1   2.55         -2.55\n",
       "437881        -3   4.95        -14.85\n",
       "437882        -3   0.85         -2.55\n",
       "437883        -3   4.25        -12.75\n",
       "437884        -3   1.95         -5.85\n",
       "\n",
       "[327110 rows x 3 columns]"
      ]
     },
     "execution_count": 16,
     "metadata": {},
     "output_type": "execute_result"
    }
   ],
   "source": [
    "df[['Quantity','Price','Total Amount']]"
   ]
  },
  {
   "cell_type": "code",
   "execution_count": 17,
   "metadata": {},
   "outputs": [
    {
     "name": "stderr",
     "output_type": "stream",
     "text": [
      "C:\\Users\\VipulGhodke\\AppData\\Local\\Temp\\ipykernel_6792\\1979502902.py:1: FutureWarning: The provided callable <built-in function sum> is currently using DataFrameGroupBy.sum. In a future version of pandas, the provided callable will be used directly. To keep current behavior pass the string \"sum\" instead.\n",
      "  table=df.pivot_table(values='Total Amount', index='Description' , aggfunc=sum )\n"
     ]
    }
   ],
   "source": [
    "table=df.pivot_table(values='Total Amount', index='Description' , aggfunc=sum )"
   ]
  },
  {
   "cell_type": "code",
   "execution_count": null,
   "metadata": {},
   "outputs": [
    {
     "name": "stdout",
     "output_type": "stream",
     "text": [
      "                                     Total Amount\n",
      "Description                                      \n",
      "  DOORMAT UNION JACK GUNS AND ROSES       1084.75\n",
      " 3 STRIPEY MICE FELTCRAFT                 1227.45\n",
      " 4 PURPLE FLOCK DINNER CANDLES              63.75\n",
      " ANIMAL STICKERS                            80.85\n",
      " BLACK PIRATE TREASURE CHEST                77.55\n",
      "...                                           ...\n",
      "ZINC T-LIGHT HOLDER STARS SMALL            908.31\n",
      "ZINC TOP  2 DOOR WOODEN SHELF             1050.35\n",
      "ZINC WILLIE WINKIE  CANDLE STICK          1746.44\n",
      "ZINC WIRE KITCHEN ORGANISER                 20.80\n",
      "ZINC WIRE SWEETHEART LETTER TRAY            97.71\n",
      "\n",
      "[4582 rows x 1 columns]\n"
     ]
    }
   ],
   "source": [
    "print(table)"
   ]
  },
  {
   "cell_type": "code",
   "execution_count": null,
   "metadata": {},
   "outputs": [
    {
     "name": "stdout",
     "output_type": "stream",
     "text": [
      "241824\n"
     ]
    }
   ],
   "source": [
    "highest_price=df['Price'].idxmax()\n",
    "print(highest_price)"
   ]
  },
  {
   "cell_type": "code",
   "execution_count": 20,
   "metadata": {},
   "outputs": [
    {
     "name": "stdout",
     "output_type": "stream",
     "text": [
      "Invoice                  C512770\n",
      "StockCode                      M\n",
      "Description               Manual\n",
      "Quantity                      -1\n",
      "InvoiceDate     17-06-2010 16:52\n",
      "Price                   25111.09\n",
      "Customer ID              17399.0\n",
      "Country           United Kingdom\n",
      "Total Amount           -25111.09\n",
      "Name: 241824, dtype: object\n"
     ]
    }
   ],
   "source": [
    "highest_price_row=df.loc[highest_price]\n",
    "print(highest_price_row)"
   ]
  },
  {
   "cell_type": "code",
   "execution_count": 21,
   "metadata": {},
   "outputs": [
    {
     "name": "stdout",
     "output_type": "stream",
     "text": [
      "country_having_maximum_price: United Kingdom\n",
      "for the product: Manual\n"
     ]
    }
   ],
   "source": [
    "print(f\"country_having_maximum_price: {highest_price_row['Country']}\\nfor the product: {highest_price_row['Description']}\")"
   ]
  },
  {
   "cell_type": "code",
   "execution_count": 22,
   "metadata": {},
   "outputs": [
    {
     "name": "stdout",
     "output_type": "stream",
     "text": [
      "4674\n"
     ]
    }
   ],
   "source": [
    "minimum_price_idx=df['Price'].idxmin()\n",
    "print(minimum_price_idx)"
   ]
  },
  {
   "cell_type": "code",
   "execution_count": 23,
   "metadata": {},
   "outputs": [
    {
     "name": "stdout",
     "output_type": "stream",
     "text": [
      "Invoice                     489825\n",
      "StockCode                    22076\n",
      "Description     6 RIBBONS EMPIRE  \n",
      "Quantity                        12\n",
      "InvoiceDate       02-12-2009 13:34\n",
      "Price                          0.0\n",
      "Customer ID                16126.0\n",
      "Country             United Kingdom\n",
      "Total Amount                   0.0\n",
      "Name: 4674, dtype: object\n"
     ]
    }
   ],
   "source": [
    "minimum_price_row=df.loc[minimum_price_idx]\n",
    "print(minimum_price_row)"
   ]
  },
  {
   "cell_type": "code",
   "execution_count": 24,
   "metadata": {},
   "outputs": [
    {
     "name": "stdout",
     "output_type": "stream",
     "text": [
      "Country with minimum price: United Kingdom\n",
      "for the product: 6 RIBBONS EMPIRE  \n"
     ]
    }
   ],
   "source": [
    "print(f\"Country with minimum price: {minimum_price_row['Country']}\\nfor the product: {minimum_price_row['Description']}\")"
   ]
  },
  {
   "cell_type": "code",
   "execution_count": 25,
   "metadata": {},
   "outputs": [],
   "source": [
    "# formating the date\n",
    "df['InvoiceDate']=pd.to_datetime(df['InvoiceDate'],format='%d-%m-%Y %H:%M')"
   ]
  },
  {
   "cell_type": "code",
   "execution_count": 26,
   "metadata": {},
   "outputs": [
    {
     "data": {
      "text/plain": [
       "0        2009-12-01 07:45:00\n",
       "1        2009-12-01 07:45:00\n",
       "2        2009-12-01 07:45:00\n",
       "3        2009-12-01 07:45:00\n",
       "4        2009-12-01 07:45:00\n",
       "                 ...        \n",
       "437880   2011-05-12 19:43:00\n",
       "437881   2011-05-12 19:43:00\n",
       "437882   2011-05-12 19:43:00\n",
       "437883   2011-05-12 19:44:00\n",
       "437884   2011-05-12 19:44:00\n",
       "Name: InvoiceDate, Length: 327110, dtype: datetime64[ns]"
      ]
     },
     "execution_count": 26,
     "metadata": {},
     "output_type": "execute_result"
    }
   ],
   "source": [
    "df['InvoiceDate']"
   ]
  },
  {
   "cell_type": "code",
   "execution_count": 27,
   "metadata": {},
   "outputs": [
    {
     "data": {
      "text/plain": [
       "0         2009\n",
       "1         2009\n",
       "2         2009\n",
       "3         2009\n",
       "4         2009\n",
       "          ... \n",
       "437880    2011\n",
       "437881    2011\n",
       "437882    2011\n",
       "437883    2011\n",
       "437884    2011\n",
       "Name: year, Length: 327110, dtype: int32"
      ]
     },
     "execution_count": 27,
     "metadata": {},
     "output_type": "execute_result"
    }
   ],
   "source": [
    "df['year']=df['InvoiceDate'].dt.year\n",
    "df['year']"
   ]
  },
  {
   "cell_type": "code",
   "execution_count": 28,
   "metadata": {},
   "outputs": [],
   "source": [
    "year_2010_data=df[df['InvoiceDate'].dt.year==2010]\n"
   ]
  },
  {
   "cell_type": "code",
   "execution_count": 29,
   "metadata": {},
   "outputs": [
    {
     "name": "stdout",
     "output_type": "stream",
     "text": [
      "        Invoice StockCode                        Description  Quantity  \\\n",
      "45228    493410   TEST001            This is a test product.         5   \n",
      "45229   C493411     21539            RETRO SPOTS BUTTER DISH        -1   \n",
      "45230    493412   TEST001            This is a test product.         5   \n",
      "45234    493414     21844                     RETRO SPOT MUG        36   \n",
      "45235    493414     21533          RETRO SPOT LARGE MILK JUG        12   \n",
      "...         ...       ...                                ...       ...   \n",
      "292022   539988     84380  SET OF 3 BUTTERFLY COOKIE CUTTERS         1   \n",
      "292023   539988    84849D              HOT BATHS SOAP HOLDER         1   \n",
      "292024   539988    84849B             FAIRY SOAP SOAP HOLDER         1   \n",
      "292025   539988     22854        CREAM SWEETHEART EGG HOLDER         2   \n",
      "292026   539988    47559B                TEA TIME OVEN GLOVE         2   \n",
      "\n",
      "               InvoiceDate  Price  Customer ID         Country  Total Amount  \\\n",
      "45228  2010-01-04 09:24:00   4.50      12346.0  United Kingdom         22.50   \n",
      "45229  2010-01-04 09:43:00   4.25      14590.0  United Kingdom         -4.25   \n",
      "45230  2010-01-04 09:53:00   4.50      12346.0  United Kingdom         22.50   \n",
      "45234  2010-01-04 10:28:00   2.55      14590.0  United Kingdom         91.80   \n",
      "45235  2010-01-04 10:28:00   4.25      14590.0  United Kingdom         51.00   \n",
      "...                    ...    ...          ...             ...           ...   \n",
      "292022 2010-12-23 16:06:00   1.25      18116.0  United Kingdom          1.25   \n",
      "292023 2010-12-23 16:06:00   1.69      18116.0  United Kingdom          1.69   \n",
      "292024 2010-12-23 16:06:00   1.69      18116.0  United Kingdom          1.69   \n",
      "292025 2010-12-23 16:06:00   4.95      18116.0  United Kingdom          9.90   \n",
      "292026 2010-12-23 16:06:00   1.25      18116.0  United Kingdom          2.50   \n",
      "\n",
      "        year  \n",
      "45228   2010  \n",
      "45229   2010  \n",
      "45230   2010  \n",
      "45234   2010  \n",
      "45235   2010  \n",
      "...      ...  \n",
      "292022  2010  \n",
      "292023  2010  \n",
      "292024  2010  \n",
      "292025  2010  \n",
      "292026  2010  \n",
      "\n",
      "[189810 rows x 10 columns]\n"
     ]
    }
   ],
   "source": [
    "print(year_2010_data)"
   ]
  },
  {
   "cell_type": "code",
   "execution_count": 30,
   "metadata": {},
   "outputs": [],
   "source": [
    "top_10_maximum_price=year_2010_data.nlargest(10,'Price')"
   ]
  },
  {
   "cell_type": "code",
   "execution_count": 31,
   "metadata": {},
   "outputs": [
    {
     "name": "stdout",
     "output_type": "stream",
     "text": [
      "        Invoice StockCode Description  Quantity         InvoiceDate     Price  \\\n",
      "241824  C512770         M      Manual        -1 2010-06-17 16:52:00  25111.09   \n",
      "135012  C502262         M      Manual        -1 2010-03-23 15:20:00  10953.50   \n",
      "135013   502263         M      Manual         1 2010-03-23 15:22:00  10953.50   \n",
      "135014  C502264         M      Manual        -1 2010-03-23 15:24:00  10953.50   \n",
      "74356    496115         M      Manual         1 2010-01-29 11:04:00   8985.60   \n",
      "74357   C496116         M      Manual        -1 2010-01-29 11:05:00   8985.60   \n",
      "129902  C501751         M      Manual        -1 2010-03-19 11:30:00   6958.17   \n",
      "129903   501766         M      Manual         1 2010-03-19 11:35:00   6958.17   \n",
      "129987   501768         M      Manual         1 2010-03-19 11:45:00   6958.17   \n",
      "129988  C501769         M      Manual        -1 2010-03-19 11:49:00   6958.17   \n",
      "\n",
      "        Customer ID         Country  Total Amount  year  \n",
      "241824      17399.0  United Kingdom     -25111.09  2010  \n",
      "135012      12918.0  United Kingdom     -10953.50  2010  \n",
      "135013      12918.0  United Kingdom      10953.50  2010  \n",
      "135014      12918.0  United Kingdom     -10953.50  2010  \n",
      "74356       17949.0  United Kingdom       8985.60  2010  \n",
      "74357       17949.0  United Kingdom      -8985.60  2010  \n",
      "129902      15760.0          Norway      -6958.17  2010  \n",
      "129903      15760.0          Norway       6958.17  2010  \n",
      "129987      15760.0          Norway       6958.17  2010  \n",
      "129988      15760.0          Norway      -6958.17  2010  \n"
     ]
    }
   ],
   "source": [
    "print(top_10_maximum_price)"
   ]
  },
  {
   "cell_type": "code",
   "execution_count": 32,
   "metadata": {},
   "outputs": [
    {
     "name": "stdout",
     "output_type": "stream",
     "text": [
      "        Price\n",
      "47126     0.0\n",
      "48342     0.0\n",
      "57619     0.0\n",
      "89084     0.0\n",
      "89180     0.0\n",
      "111348    0.0\n",
      "149201    0.0\n",
      "149202    0.0\n",
      "166143    0.0\n",
      "232526    0.0\n"
     ]
    }
   ],
   "source": [
    "# printing top 10 lowest price in 2010\n",
    "print(df[df['InvoiceDate'].dt.year==2010].nsmallest(10,'Price')[['Price']])"
   ]
  },
  {
   "cell_type": "code",
   "execution_count": 33,
   "metadata": {},
   "outputs": [
    {
     "data": {
      "text/plain": [
       "<Axes: title={'center': 'Time Series of Price'}, xlabel='InvoiceDate'>"
      ]
     },
     "execution_count": 33,
     "metadata": {},
     "output_type": "execute_result"
    },
    {
     "data": {
      "image/png": "[encoded data removed]",
      "text/plain": [
       "<Figure size 640x480 with 1 Axes>"
      ]
     },
     "metadata": {},
     "output_type": "display_data"
    }
   ],
   "source": [
    "start_date = \"2009-12-01\"   # The start date\n",
    "end_date = \"2009-12-02\"     # The end date\n",
    "df_filtered=df[(df[\"InvoiceDate\"] >= start_date) & (df[\"InvoiceDate\"]<=end_date)]   # storing only the dates between start and end date\n",
    " \n",
    "# Set the 'InvoiceDate' column as the index of the DataFrame\n",
    "# This is useful for time series analysis and operations that require date-based indexing\n",
    "df_filtered.set_index(\"InvoiceDate\",inplace=True)  \n",
    " \n",
    "# Plot the first 20 rows of the 'Price' column as a bar chart\n",
    "# 'x' and 'y' parameters are not needed here as the index is already set to 'InvoiceDate'\n",
    "df_filtered.head(20)[\"Price\"].plot(x=\"InvoiceDate\", y=\"Price\",title=\"Time Series of Price\",kind=\"bar\")"
   ]
  },
  {
   "cell_type": "code",
   "execution_count": 34,
   "metadata": {},
   "outputs": [
    {
     "data": {
      "text/plain": [
       "<Axes: title={'center': 'Time Series of Price'}, xlabel='InvoiceDate'>"
      ]
     },
     "execution_count": 34,
     "metadata": {},
     "output_type": "execute_result"
    },
    {
     "data": {
      "image/png": "[encoded data removed]",
      "text/plain": [
       "<Figure size 640x480 with 1 Axes>"
      ]
     },
     "metadata": {},
     "output_type": "display_data"
    }
   ],
   "source": [
    "# Filter the DataFrame for rows where 'Quantity' is less than 1000 and 'InvoiceDate' is in the year 2011\n",
    "df_new=df[(df[\"Quantity\"]<1000) & (df[\"InvoiceDate\"].dt.year==2011)]\n",
    " \n",
    "# Set the 'InvoiceDate' column as the index of the filtered DataFrame\n",
    "df_new.set_index(\"InvoiceDate\",inplace=True)\n",
    " \n",
    "# Plot the first 15 rows of the 'Price' column as a bar chart\n",
    "# 'x' and 'y' parameters are not needed here as the index is already set to 'InvoiceDate'\n",
    "df_new.head(15)[\"Price\"].plot(title=\"Time Series of Price\",kind=\"bar\")"
   ]
  },
  {
   "cell_type": "code",
   "execution_count": null,
   "metadata": {},
   "outputs": [],
   "source": []
  }
 ],
 "metadata": {
  "kernelspec": {
   "display_name": "virtualEnv",
   "language": "python",
   "name": "python3"
  },
  "language_info": {
   "codemirror_mode": {
    "name": "ipython",
    "version": 3
   },
   "file_extension": ".py",
   "mimetype": "text/x-python",
   "name": "python",
   "nbconvert_exporter": "python",
   "pygments_lexer": "ipython3",
   "version": "3.13.1"
  }
 },
 "nbformat": 4,
 "nbformat_minor": 2
}
